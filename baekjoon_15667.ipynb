{
 "cells": [
  {
   "cell_type": "code",
   "execution_count": 10,
   "metadata": {},
   "outputs": [],
   "source": [
    "import math\n",
    "# 총 폭죽의 수: N = (k**3 - 1)/(k - 1) = 1+k+k^2\n",
    "# N의 범위: 3 <= N <= 10101\n",
    "# 문제: N이 주어졌을 때, k 찾기\n",
    "def find_k(n):\n",
    "    temp = n - 1\n",
    "    temp = temp**0.5\n",
    "    k = math.floor(temp)\n",
    "    return k"
   ]
  },
  {
   "cell_type": "code",
   "execution_count": 11,
   "metadata": {},
   "outputs": [
    {
     "name": "stdout",
     "output_type": "stream",
     "text": [
      "총 폭죽 수를 입력하시오 (3 <= N <= 10101): 21\n",
      "총 폭죽 수가  21 이면 k값은  4 입니다.\n"
     ]
    }
   ],
   "source": [
    "N = input(\"총 폭죽 수를 입력하시오 (3 <= N <= 10101): \")\n",
    "N = int(N)\n",
    "k = find_k(N)\n",
    "print(\"총 폭죽 수가 \", N, \"이면 k값은 \", k, \"입니다.\")"
   ]
  },
  {
   "cell_type": "code",
   "execution_count": null,
   "metadata": {},
   "outputs": [],
   "source": []
  }
 ],
 "metadata": {
  "kernelspec": {
   "display_name": "Python 3",
   "language": "python",
   "name": "python3"
  },
  "language_info": {
   "codemirror_mode": {
    "name": "ipython",
    "version": 3
   },
   "file_extension": ".py",
   "mimetype": "text/x-python",
   "name": "python",
   "nbconvert_exporter": "python",
   "pygments_lexer": "ipython3",
   "version": "3.6.8"
  }
 },
 "nbformat": 4,
 "nbformat_minor": 2
}
